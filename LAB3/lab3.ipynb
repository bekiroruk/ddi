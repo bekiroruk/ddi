{
 "cells": [
  {
   "cell_type": "code",
   "execution_count": 1,
   "metadata": {},
   "outputs": [],
   "source": [
    "import pandas as pd"
   ]
  },
  {
   "cell_type": "code",
   "execution_count": 3,
   "metadata": {},
   "outputs": [
    {
     "data": {
      "text/html": [
       "<div>\n",
       "<style scoped>\n",
       "    .dataframe tbody tr th:only-of-type {\n",
       "        vertical-align: middle;\n",
       "    }\n",
       "\n",
       "    .dataframe tbody tr th {\n",
       "        vertical-align: top;\n",
       "    }\n",
       "\n",
       "    .dataframe thead th {\n",
       "        text-align: right;\n",
       "    }\n",
       "</style>\n",
       "<table border=\"1\" class=\"dataframe\">\n",
       "  <thead>\n",
       "    <tr style=\"text-align: right;\">\n",
       "      <th></th>\n",
       "      <th>singer</th>\n",
       "      <th>song</th>\n",
       "      <th>album</th>\n",
       "      <th>lyrics</th>\n",
       "    </tr>\n",
       "  </thead>\n",
       "  <tbody>\n",
       "    <tr>\n",
       "      <th>0</th>\n",
       "      <td>Ahmet Kaya</td>\n",
       "      <td>(Potbori) Fabrika Kızı, Cama Çıkma, Fabrika Önü</td>\n",
       "      <td>Şafak Türküsü</td>\n",
       "      <td>Bir mavi otobüs gelirdi\\nSeni alır giderdi\\nO ...</td>\n",
       "    </tr>\n",
       "    <tr>\n",
       "      <th>1</th>\n",
       "      <td>Ahmet Kaya</td>\n",
       "      <td>Acı Ninni</td>\n",
       "      <td>Baş Kaldırıyorum</td>\n",
       "      <td>Uyusun ha iyi büyüsün,\\nCamlar buğulanmasın\\nS...</td>\n",
       "    </tr>\n",
       "    <tr>\n",
       "      <th>2</th>\n",
       "      <td>Ahmet Kaya</td>\n",
       "      <td>Acılara Tutunmak</td>\n",
       "      <td>Acılara Tutunmak</td>\n",
       "      <td>Kavuşmak özgürlükse özgürdük ikimiz de\\nElleri...</td>\n",
       "    </tr>\n",
       "    <tr>\n",
       "      <th>3</th>\n",
       "      <td>Ahmet Kaya</td>\n",
       "      <td>Ada Sahilleri</td>\n",
       "      <td>Hoşçakalın Gözüm</td>\n",
       "      <td>Ada sahillerinde bekliyorum\\nHer zaman yolları...</td>\n",
       "    </tr>\n",
       "    <tr>\n",
       "      <th>4</th>\n",
       "      <td>Ahmet Kaya</td>\n",
       "      <td>Adı Bahtiyar</td>\n",
       "      <td>Dinle Sevgili Ülkem</td>\n",
       "      <td>Geçiyor önümden, sirenler içinde\\nAh eller üst...</td>\n",
       "    </tr>\n",
       "  </tbody>\n",
       "</table>\n",
       "</div>"
      ],
      "text/plain": [
       "       singer                                             song  \\\n",
       "0  Ahmet Kaya  (Potbori) Fabrika Kızı, Cama Çıkma, Fabrika Önü   \n",
       "1  Ahmet Kaya                                        Acı Ninni   \n",
       "2  Ahmet Kaya                                 Acılara Tutunmak   \n",
       "3  Ahmet Kaya                                    Ada Sahilleri   \n",
       "4  Ahmet Kaya                                     Adı Bahtiyar   \n",
       "\n",
       "                 album                                             lyrics  \n",
       "0        Şafak Türküsü  Bir mavi otobüs gelirdi\\nSeni alır giderdi\\nO ...  \n",
       "1     Baş Kaldırıyorum  Uyusun ha iyi büyüsün,\\nCamlar buğulanmasın\\nS...  \n",
       "2     Acılara Tutunmak  Kavuşmak özgürlükse özgürdük ikimiz de\\nElleri...  \n",
       "3     Hoşçakalın Gözüm  Ada sahillerinde bekliyorum\\nHer zaman yolları...  \n",
       "4  Dinle Sevgili Ülkem  Geçiyor önümden, sirenler içinde\\nAh eller üst...  "
      ]
     },
     "execution_count": 3,
     "metadata": {},
     "output_type": "execute_result"
    }
   ],
   "source": [
    "# https://www.kaggle.com/datasets/emreokcular/turkish-song-lyrics\n",
    "df = pd.read_csv(\"turkish_song_lyrics.csv\") \n",
    "df.head()"
   ]
  },
  {
   "cell_type": "code",
   "execution_count": 4,
   "metadata": {},
   "outputs": [
    {
     "data": {
      "text/plain": [
       "array(['Ahmet Kaya', 'Barış Manço', 'Büyük Ev Ablukada', 'Can Bonomo',\n",
       "       'Candan Erçetin', 'Cem Adrian', 'Cem Karaca', 'Ceza', 'Duman',\n",
       "       'Ezhel', 'Feridun Düzağaç', 'Kayahan', 'Mabel Matiz',\n",
       "       'Mazhar Fuat Özkan (MFÖ)', 'Mor Ve Ötesi', 'Mustafa Sandal',\n",
       "       'Müslüm Gürses', 'Nazan Öncel', 'Orhan Gencebay', 'Pinhani',\n",
       "       'Sagopa Kajmer', 'Serdar Ortaç', 'Sertab Erener', 'Sezen Aksu',\n",
       "       'Tarkan', 'Teoman', 'Yaşar', 'Yeni Türkü', 'Zeki Müren',\n",
       "       'Zülfü Livaneli', 'Şebnem Ferah'], dtype=object)"
      ]
     },
     "execution_count": 4,
     "metadata": {},
     "output_type": "execute_result"
    }
   ],
   "source": [
    "df[\"singer\"].unique()"
   ]
  },
  {
   "cell_type": "code",
   "execution_count": 5,
   "metadata": {},
   "outputs": [
    {
     "name": "stdout",
     "output_type": "stream",
     "text": [
      "<class 'pandas.core.frame.DataFrame'>\n",
      "RangeIndex: 4975 entries, 0 to 4974\n",
      "Data columns (total 4 columns):\n",
      " #   Column  Non-Null Count  Dtype \n",
      "---  ------  --------------  ----- \n",
      " 0   singer  4975 non-null   object\n",
      " 1   song    4975 non-null   object\n",
      " 2   album   4074 non-null   object\n",
      " 3   lyrics  4975 non-null   object\n",
      "dtypes: object(4)\n",
      "memory usage: 155.6+ KB\n"
     ]
    }
   ],
   "source": [
    "df.info()"
   ]
  },
  {
   "cell_type": "code",
   "execution_count": 16,
   "metadata": {},
   "outputs": [
    {
     "data": {
      "text/html": [
       "<div>\n",
       "<style scoped>\n",
       "    .dataframe tbody tr th:only-of-type {\n",
       "        vertical-align: middle;\n",
       "    }\n",
       "\n",
       "    .dataframe tbody tr th {\n",
       "        vertical-align: top;\n",
       "    }\n",
       "\n",
       "    .dataframe thead th {\n",
       "        text-align: right;\n",
       "    }\n",
       "</style>\n",
       "<table border=\"1\" class=\"dataframe\">\n",
       "  <thead>\n",
       "    <tr style=\"text-align: right;\">\n",
       "      <th></th>\n",
       "      <th>singer</th>\n",
       "      <th>song</th>\n",
       "      <th>album</th>\n",
       "      <th>lyrics</th>\n",
       "    </tr>\n",
       "  </thead>\n",
       "  <tbody>\n",
       "    <tr>\n",
       "      <th>count</th>\n",
       "      <td>4975</td>\n",
       "      <td>4975</td>\n",
       "      <td>4074</td>\n",
       "      <td>4975</td>\n",
       "    </tr>\n",
       "    <tr>\n",
       "      <th>unique</th>\n",
       "      <td>31</td>\n",
       "      <td>4613</td>\n",
       "      <td>669</td>\n",
       "      <td>4940</td>\n",
       "    </tr>\n",
       "    <tr>\n",
       "      <th>top</th>\n",
       "      <td>Zeki Müren</td>\n",
       "      <td>Sarıl Bana</td>\n",
       "      <td>Nostaljik Parçalar</td>\n",
       "      <td>Killa;\\nHangi bal hangi dal tadı başka tadı,\\n...</td>\n",
       "    </tr>\n",
       "    <tr>\n",
       "      <th>freq</th>\n",
       "      <td>500</td>\n",
       "      <td>5</td>\n",
       "      <td>165</td>\n",
       "      <td>3</td>\n",
       "    </tr>\n",
       "  </tbody>\n",
       "</table>\n",
       "</div>"
      ],
      "text/plain": [
       "            singer        song               album  \\\n",
       "count         4975        4975                4074   \n",
       "unique          31        4613                 669   \n",
       "top     Zeki Müren  Sarıl Bana  Nostaljik Parçalar   \n",
       "freq           500           5                 165   \n",
       "\n",
       "                                                   lyrics  \n",
       "count                                                4975  \n",
       "unique                                               4940  \n",
       "top     Killa;\\nHangi bal hangi dal tadı başka tadı,\\n...  \n",
       "freq                                                    3  "
      ]
     },
     "execution_count": 16,
     "metadata": {},
     "output_type": "execute_result"
    }
   ],
   "source": [
    "df.describe()"
   ]
  },
  {
   "cell_type": "code",
   "execution_count": 7,
   "metadata": {},
   "outputs": [
    {
     "data": {
      "text/plain": [
       "singer      0\n",
       "song        0\n",
       "album     901\n",
       "lyrics      0\n",
       "dtype: int64"
      ]
     },
     "execution_count": 7,
     "metadata": {},
     "output_type": "execute_result"
    }
   ],
   "source": [
    "df.isna().sum()"
   ]
  },
  {
   "cell_type": "code",
   "execution_count": 15,
   "metadata": {},
   "outputs": [
    {
     "data": {
      "text/plain": [
       "singer\n",
       "Zeki Müren                 500\n",
       "Müslüm Gürses              432\n",
       "Sezen Aksu                 357\n",
       "Sagopa Kajmer              321\n",
       "Orhan Gencebay             295\n",
       "Serdar Ortaç               243\n",
       "Ahmet Kaya                 224\n",
       "Ceza                       211\n",
       "Barış Manço                157\n",
       "Sertab Erener              156\n",
       "Zülfü Livaneli             148\n",
       "Cem Adrian                 140\n",
       "Tarkan                     138\n",
       "Candan Erçetin             137\n",
       "Cem Karaca                 136\n",
       "Kayahan                    124\n",
       "Nazan Öncel                120\n",
       "Mustafa Sandal             120\n",
       "Feridun Düzağaç            107\n",
       "Yaşar                      106\n",
       "Mazhar Fuat Özkan (MFÖ)     99\n",
       "Mor Ve Ötesi                97\n",
       "Şebnem Ferah                97\n",
       "Yeni Türkü                  95\n",
       "Teoman                      85\n",
       "Duman                       84\n",
       "Mabel Matiz                 72\n",
       "Pinhani                     68\n",
       "Can Bonomo                  60\n",
       "Ezhel                       23\n",
       "Büyük Ev Ablukada           23\n",
       "Name: song, dtype: int64"
      ]
     },
     "execution_count": 15,
     "metadata": {},
     "output_type": "execute_result"
    }
   ],
   "source": [
    "df.groupby([\"singer\"])[\"song\"].count().sort_values(ascending=False)"
   ]
  },
  {
   "cell_type": "code",
   "execution_count": 17,
   "metadata": {},
   "outputs": [],
   "source": [
    "import matplotlib.pyplot as plt"
   ]
  },
  {
   "cell_type": "code",
   "execution_count": 21,
   "metadata": {},
   "outputs": [
    {
     "data": {
      "image/png": "[encoded data removed]",
      "text/plain": [
       "<Figure size 1500x800 with 1 Axes>"
      ]
     },
     "metadata": {},
     "output_type": "display_data"
    }
   ],
   "source": [
    "df.singer.value_counts().plot.bar(title=\"Şarkı Sayıları\",figsize=(15,8))\n",
    "plt.xticks(rotation=90)\n",
    "plt.show()"
   ]
  },
  {
   "cell_type": "code",
   "execution_count": 54,
   "metadata": {},
   "outputs": [
    {
     "data": {
      "text/plain": [
       "0    [bir mavi otobüs gelirdi, seni alır giderdi, o...\n",
       "1    [uyusun ha iyi büyüsün,, camlar buğulanmasın, ...\n",
       "Name: lyrics, dtype: object"
      ]
     },
     "execution_count": 54,
     "metadata": {},
     "output_type": "execute_result"
    }
   ],
   "source": [
    "songs = df.lyrics.str.lower().str.split(\"\\n\")\n",
    "songs[:2]"
   ]
  },
  {
   "cell_type": "code",
   "execution_count": 71,
   "metadata": {},
   "outputs": [
    {
     "data": {
      "text/plain": [
       "['bir',\n",
       " 'mavi',\n",
       " 'otobüs',\n",
       " 'gelirdi',\n",
       " 'seni',\n",
       " 'alır',\n",
       " 'giderdi',\n",
       " 'o',\n",
       " 'mavi',\n",
       " 'otobüs']"
      ]
     },
     "execution_count": 71,
     "metadata": {},
     "output_type": "execute_result"
    }
   ],
   "source": [
    "vocab = (\" \".join(songs.sum())).split()\n",
    "vocab[:10]"
   ]
  },
  {
   "cell_type": "code",
   "execution_count": 72,
   "metadata": {},
   "outputs": [],
   "source": [
    "word2index = {}\n",
    "index2word = {}\n",
    "\n",
    "word2index[\"<unk>\"] = 0\n",
    "word2index[\"<endl>\"] = 1\n",
    "\n",
    "index2word[0] = \"<unk>\"\n",
    "index2word[1] = \"<endl>\"\n",
    "\n",
    "i = 2\n",
    "for word in vocab:\n",
    "    if word in word2index:\n",
    "        continue\n",
    "    \n",
    "    word2index[word] = i\n",
    "    index2word[i] = word\n",
    "    i += 1"
   ]
  },
  {
   "cell_type": "code",
   "execution_count": 76,
   "metadata": {},
   "outputs": [
    {
     "data": {
      "text/plain": [
       "84825"
      ]
     },
     "execution_count": 76,
     "metadata": {},
     "output_type": "execute_result"
    }
   ],
   "source": [
    "len(word2index)"
   ]
  },
  {
   "cell_type": "code",
   "execution_count": null,
   "metadata": {},
   "outputs": [],
   "source": []
  }
 ],
 "metadata": {
  "kernelspec": {
   "display_name": "Python 3.9.13 ('tfnew')",
   "language": "python",
   "name": "python3"
  },
  "language_info": {
   "codemirror_mode": {
    "name": "ipython",
    "version": 3
   },
   "file_extension": ".py",
   "mimetype": "text/x-python",
   "name": "python",
   "nbconvert_exporter": "python",
   "pygments_lexer": "ipython3",
   "version": "3.9.13"
  },
  "orig_nbformat": 4,
  "vscode": {
   "interpreter": {
    "hash": "93a508892ad0418bbbef2f3796edd4c06527622cb95cdcc5e9525e8332085ac2"
   }
  }
 },
 "nbformat": 4,
 "nbformat_minor": 2
}
